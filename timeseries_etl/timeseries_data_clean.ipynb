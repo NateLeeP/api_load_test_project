{
 "cells": [
  {
   "cell_type": "code",
   "execution_count": 81,
   "id": "6a62c405-565a-4b74-86cc-4c482646b442",
   "metadata": {},
   "outputs": [],
   "source": [
    "import pandas as pd\n",
    "import matplotlib.pyplot as plt\n",
    "import json"
   ]
  },
  {
   "cell_type": "code",
   "execution_count": 115,
   "id": "3b8bd915-bf30-4919-82df-06ffce1422d6",
   "metadata": {
    "scrolled": true
   },
   "outputs": [
    {
     "data": {
      "text/html": [
       "<div>\n",
       "<style scoped>\n",
       "    .dataframe tbody tr th:only-of-type {\n",
       "        vertical-align: middle;\n",
       "    }\n",
       "\n",
       "    .dataframe tbody tr th {\n",
       "        vertical-align: top;\n",
       "    }\n",
       "\n",
       "    .dataframe thead th {\n",
       "        text-align: right;\n",
       "    }\n",
       "</style>\n",
       "<table border=\"1\" class=\"dataframe\">\n",
       "  <thead>\n",
       "    <tr style=\"text-align: right;\">\n",
       "      <th></th>\n",
       "      <th>timestamp</th>\n",
       "      <th>metric_value</th>\n",
       "    </tr>\n",
       "    <tr>\n",
       "      <th>timestamp</th>\n",
       "      <th></th>\n",
       "      <th></th>\n",
       "    </tr>\n",
       "  </thead>\n",
       "  <tbody>\n",
       "    <tr>\n",
       "      <th>1691585223</th>\n",
       "      <td>1.691585e+09</td>\n",
       "      <td>2.0</td>\n",
       "    </tr>\n",
       "    <tr>\n",
       "      <th>1691585224</th>\n",
       "      <td>1.691585e+09</td>\n",
       "      <td>4.0</td>\n",
       "    </tr>\n",
       "    <tr>\n",
       "      <th>1691585225</th>\n",
       "      <td>1.691585e+09</td>\n",
       "      <td>5.0</td>\n",
       "    </tr>\n",
       "    <tr>\n",
       "      <th>1691585226</th>\n",
       "      <td>1.691585e+09</td>\n",
       "      <td>7.0</td>\n",
       "    </tr>\n",
       "    <tr>\n",
       "      <th>1691585227</th>\n",
       "      <td>1.691585e+09</td>\n",
       "      <td>9.0</td>\n",
       "    </tr>\n",
       "    <tr>\n",
       "      <th>...</th>\n",
       "      <td>...</td>\n",
       "      <td>...</td>\n",
       "    </tr>\n",
       "    <tr>\n",
       "      <th>1691585398</th>\n",
       "      <td>1.691585e+09</td>\n",
       "      <td>8.0</td>\n",
       "    </tr>\n",
       "    <tr>\n",
       "      <th>1691585399</th>\n",
       "      <td>1.691585e+09</td>\n",
       "      <td>7.0</td>\n",
       "    </tr>\n",
       "    <tr>\n",
       "      <th>1691585400</th>\n",
       "      <td>1.691585e+09</td>\n",
       "      <td>4.0</td>\n",
       "    </tr>\n",
       "    <tr>\n",
       "      <th>1691585401</th>\n",
       "      <td>1.691585e+09</td>\n",
       "      <td>3.0</td>\n",
       "    </tr>\n",
       "    <tr>\n",
       "      <th>1691585402</th>\n",
       "      <td>1.691585e+09</td>\n",
       "      <td>2.0</td>\n",
       "    </tr>\n",
       "  </tbody>\n",
       "</table>\n",
       "<p>180 rows × 2 columns</p>\n",
       "</div>"
      ],
      "text/plain": [
       "               timestamp  metric_value\n",
       "timestamp                             \n",
       "1691585223  1.691585e+09           2.0\n",
       "1691585224  1.691585e+09           4.0\n",
       "1691585225  1.691585e+09           5.0\n",
       "1691585226  1.691585e+09           7.0\n",
       "1691585227  1.691585e+09           9.0\n",
       "...                  ...           ...\n",
       "1691585398  1.691585e+09           8.0\n",
       "1691585399  1.691585e+09           7.0\n",
       "1691585400  1.691585e+09           4.0\n",
       "1691585401  1.691585e+09           3.0\n",
       "1691585402  1.691585e+09           2.0\n",
       "\n",
       "[180 rows x 2 columns]"
      ]
     },
     "execution_count": 115,
     "metadata": {},
     "output_type": "execute_result"
    }
   ],
   "source": [
    "df = pd.read_csv('./csv/express_app_stress_test_timeseries.csv')\n",
    "df[df['metric_name'] == 'vus'][[ 'timestamp', 'metric_value']].groupby(df['timestamp']).median()"
   ]
  },
  {
   "cell_type": "code",
   "execution_count": 73,
   "id": "2ff146d7-85fa-4da5-a30c-7b9bc830f752",
   "metadata": {},
   "outputs": [],
   "source": [
    "## Function that accepts a CSV file path as an argument and returns a dataframe.\n",
    "## Dataframe has a 'timestamp' column and 'metric_value' column that corresponds to http_req_duration\n",
    "def create_timeseries_df(csv_file_path):\n",
    "    \"\"\"\n",
    "    Creates a timeseries dataframe from a csv path. \n",
    "\n",
    "    Args:\n",
    "     * csv_file_path - string path. \n",
    "\n",
    "    Returns:\n",
    "     * Pandas DF\n",
    "    \n",
    "    \"\"\"\n",
    "    timeseries_df = pd.read_csv(csv_file_path)\n",
    "    timeseries_df = timeseries_df[['metric_name', 'timestamp', 'metric_value']]\n",
    "    timeseries_df = timeseries_df[timeseries_df['metric_name'] == 'http_req_duration'][['timestamp', 'metric_value']]\n",
    "    timeseries_df = timeseries_df.groupby(timeseries_df['timestamp']).median()\n",
    "    timeseries_df = timeseries_df.reset_index()\n",
    "    return timeseries_df"
   ]
  },
  {
   "cell_type": "code",
   "execution_count": 118,
   "id": "c9ef7646-297c-4fbe-848b-5944fdca3e57",
   "metadata": {},
   "outputs": [],
   "source": [
    "## Function that accepts a CSV file path as an argument and returns a dataframe. \n",
    "## Dataframe has a 'timestamp' column a 'metric_value' column that corresponds to vus (virtual users - another name for active users\n",
    "## making a request to the API\n",
    "def create_vus_df(csv_file_path):\n",
    "    \"\"\"\n",
    "    Creates a vus dataframe from a csv path\n",
    "\n",
    "    Args:\n",
    "     * csv_file_path - string path\n",
    "\n",
    "    Returns:\n",
    "     * Pandas df\n",
    "    \"\"\"\n",
    "    vus_df = pd.read_csv(csv_file_path)\n",
    "    vus_df = vus_df[['metric_name', 'timestamp', 'metric_value']]\n",
    "    vus_df = vus_df[vus_df['metric_name'] == 'vus'][['timestamp', 'metric_value']]\n",
    "    vus_df = vus_df.groupby(vus_df['timestamp']).median()\n",
    "    vus_df = vus_df.reset_index()\n",
    "    return vus_df"
   ]
  },
  {
   "cell_type": "code",
   "execution_count": 119,
   "id": "6e5e3fef-37d6-4aab-b11b-54da98393e42",
   "metadata": {},
   "outputs": [
    {
     "data": {
      "text/html": [
       "<div>\n",
       "<style scoped>\n",
       "    .dataframe tbody tr th:only-of-type {\n",
       "        vertical-align: middle;\n",
       "    }\n",
       "\n",
       "    .dataframe tbody tr th {\n",
       "        vertical-align: top;\n",
       "    }\n",
       "\n",
       "    .dataframe thead th {\n",
       "        text-align: right;\n",
       "    }\n",
       "</style>\n",
       "<table border=\"1\" class=\"dataframe\">\n",
       "  <thead>\n",
       "    <tr style=\"text-align: right;\">\n",
       "      <th></th>\n",
       "      <th>timestamp</th>\n",
       "      <th>metric_value</th>\n",
       "    </tr>\n",
       "  </thead>\n",
       "  <tbody>\n",
       "    <tr>\n",
       "      <th>0</th>\n",
       "      <td>1691580922</td>\n",
       "      <td>4.0</td>\n",
       "    </tr>\n",
       "    <tr>\n",
       "      <th>1</th>\n",
       "      <td>1691580923</td>\n",
       "      <td>7.0</td>\n",
       "    </tr>\n",
       "    <tr>\n",
       "      <th>2</th>\n",
       "      <td>1691580924</td>\n",
       "      <td>10.0</td>\n",
       "    </tr>\n",
       "    <tr>\n",
       "      <th>3</th>\n",
       "      <td>1691580925</td>\n",
       "      <td>14.0</td>\n",
       "    </tr>\n",
       "    <tr>\n",
       "      <th>4</th>\n",
       "      <td>1691580926</td>\n",
       "      <td>17.0</td>\n",
       "    </tr>\n",
       "  </tbody>\n",
       "</table>\n",
       "</div>"
      ],
      "text/plain": [
       "    timestamp  metric_value\n",
       "0  1691580922           4.0\n",
       "1  1691580923           7.0\n",
       "2  1691580924          10.0\n",
       "3  1691580925          14.0\n",
       "4  1691580926          17.0"
      ]
     },
     "execution_count": 119,
     "metadata": {},
     "output_type": "execute_result"
    }
   ],
   "source": [
    "create_vus_df('./csv/express_app_timeseries.csv').head()"
   ]
  },
  {
   "cell_type": "code",
   "execution_count": 90,
   "id": "c6de3e22-03a5-4e62-94db-43408fcee8da",
   "metadata": {},
   "outputs": [],
   "source": [
    "# Function that accepts a summary output file and an application name and outputs a dataframe \n",
    "# Json must be formatted as summary output data by k6\n",
    "# Accepts a path to the json file\n",
    "def create_summary_output_df(json_file_path, app_name):\n",
    "    summary_data = {}\n",
    "    with open(json_file_path, \"r\") as json_file:\n",
    "        json_dict = json.load(json_file)\n",
    "        summary_data['Req Failed %'] = {app_name: json_dict['metrics']['http_req_failed']['values']['rate']}\n",
    "        summary_data['Med Duration (ms)'] = {app_name: json_dict['metrics']['http_req_duration']['values']['med']}\n",
    "        summary_data['p95 (ms)'] = {app_name: json_dict['metrics']['http_req_duration']['values']['p(95)']}\n",
    "        summary_data['p99 (ms)'] = {app_name: json_dict['metrics']['http_req_duration']['values']['p(99)']}\n",
    "    return pd.DataFrame(summary_data)\n",
    "        "
   ]
  },
  {
   "cell_type": "code",
   "execution_count": 131,
   "id": "7bc4b02e-0d31-4ac6-b6c1-0287790478e9",
   "metadata": {},
   "outputs": [],
   "source": [
    "express_timeseries_df = create_timeseries_df('./csv/express-load-timeseries.csv')\n",
    "fastapi_timeseries_df = create_timeseries_df('./csv/fastapi-load-timeseries.csv')\n",
    "\n",
    "#express_stress_test_timeseries_df = create_timeseries_df('./csv/express_app_stress_test_timeseries.csv')\n",
    "#fastapi_stress_test_timeseries_df = create_timeseries_df('./csv/fastapi_app_stress_test_timeseries.csv')"
   ]
  },
  {
   "cell_type": "code",
   "execution_count": 138,
   "id": "e5333ee7-01f3-496d-a66f-5678f6cb3d30",
   "metadata": {},
   "outputs": [],
   "source": [
    "def create_latency_comparison_timeseries_chart(duration_df1, duration_df2, title, test_name=\"load\"):\n",
    "    \"\"\"\n",
    "    Creates and saves a latency comparison table with labels 'Express' and 'FastAPI'. \n",
    "\n",
    "    Args:\n",
    "     * duration_df1, duration_df2: Pandas dfs with column names 'timestamp' and 'metric_value'\n",
    "     * title: str - Title of figure\n",
    "     * test_name: 'stress', 'load', or 'spike' test. Determines file name of saved image\n",
    "\n",
    "    Returns:\n",
    "     None\n",
    "\n",
    "    \"\"\"\n",
    "    timeseries1 = duration_df1['timestamp'].apply(lambda x: x - duration_df1['timestamp'][0])\n",
    "    timeseries2 = duration_df2['timestamp'].apply(lambda x: x - duration_df2['timestamp'][0])\n",
    "    fig, (ax1, ax2, ax3) = plt.subplots(3,1)\n",
    "    ax2.plot(timeseries1, duration_df1['metric_value'], label=\"Express\")\n",
    "    ax2.plot(timeseries2, duration_df2['metric_value'], label=\"FastAPI\")\n",
    "    ax2.set_ylabel('Latency (millisecond / request)')\n",
    "    ax2.set_xlabel('Time Elapsed (s)')\n",
    "    ax2.set_xticks([0, 30, 60, 90, 120, 150, 180], labels=['0s', '30s', '60s', '90s', '120s', '150s', '180s'])\n",
    "    ax2.legend()\n",
    "    ax2.set_title(title)\n",
    "    df = create_summary_output_df('./summary_outputs/summary_output_load_express.json', 'Express')\n",
    "    df2 = create_summary_output_df('./summary_outputs/summary_output_load_fastapi.json', 'FastAPI')\n",
    "    df3 = pd.concat([df, df2])\n",
    "    ax1.axis('off')\n",
    "    ax1.set_title('Duration Summary')\n",
    "    ax1.table(cellText=df3.values, colLabels=df3.columns, rowLabels=['Express', 'FastAPI'], loc='center')\n",
    "    vus_df = create_vus_df('./csv/express-load-timeseries.csv')\n",
    "    timeseries3 = vus_df['timestamp'].apply(lambda x: x - vus_df['timestamp'][0])\n",
    "    ax3.plot(timeseries3, vus_df['metric_value'], label=\"VUs\")\n",
    "    fig.savefig(f\"./{test_name}_test_comparison_timeseries.png\")\n",
    "    plt.show()"
   ]
  },
  {
   "cell_type": "code",
   "execution_count": 139,
   "id": "bdf25130-8ac1-4791-ae29-b61cd30a3753",
   "metadata": {},
   "outputs": [
    {
     "data": {
      "image/png": "[encoded data removed]",
      "text/plain": [
       "<Figure size 640x480 with 3 Axes>"
      ]
     },
     "metadata": {},
     "output_type": "display_data"
    }
   ],
   "source": [
    "create_latency_comparison_timeseries_chart(express_timeseries_df, fastapi_timeseries_df, \"API Latency Comparison: Load Test\", 'stress')"
   ]
  },
  {
   "cell_type": "code",
   "execution_count": null,
   "id": "4a84e561-557f-46c7-8a5d-1ebbc86e2e23",
   "metadata": {},
   "outputs": [],
   "source": [
    "df = pd.DataFrame({'http_req_duration_99': {'FastAPI': 1, 'Express':3}, 'http_req_duration_med': {'FastAPI': 2, 'Express': 2}})\n",
    "fig, ax = plt.subplots()\n",
    "\n",
    "# hide axes\n",
    "fig.patch.set_visible(False)\n",
    "ax.axis('off')\n",
    "ax.axis('tight')\n",
    "\n",
    "ax.table(cellText=df.values, colLabels=df.columns, loc='top', rowLabels=[\"FastAPI\", \"Express\"])\n",
    "ax.set_title('Overall Metric')\n",
    "\n",
    "fig.tight_layout()\n",
    "\n",
    "plt.show()"
   ]
  },
  {
   "cell_type": "code",
   "execution_count": 53,
   "id": "93ee42c6-92cd-47ab-be86-740e65febf7b",
   "metadata": {},
   "outputs": [],
   "source": [
    "import json"
   ]
  },
  {
   "cell_type": "code",
   "execution_count": 63,
   "id": "47bfa94a-95b2-4ef6-bcfd-3fe95fa62c37",
   "metadata": {},
   "outputs": [
    {
     "name": "stdout",
     "output_type": "stream",
     "text": [
      "{'http_req_duration': {'values': {'p(95)': 2.2616499999999995, 'med': 1.483, 'p(99)': 2.684}, 'type': 'trend', 'contains': 'time'}, 'iteration_duration': {'type': 'trend', 'contains': 'time', 'values': {'med': 1002.817636, 'p(99)': 1003.5067465, 'p(95)': 1003.2230956}}, 'iterations': {'values': {'count': 12048, 'rate': 66.75268203333944}, 'type': 'counter', 'contains': 'default'}, 'http_reqs': {'values': {'count': 12048, 'rate': 66.75268203333944}, 'type': 'counter', 'contains': 'default'}, 'http_req_failed': {'values': {'passes': 0, 'fails': 12048, 'rate': 0}, 'type': 'rate', 'contains': 'default'}}\n"
     ]
    },
    {
     "data": {
      "text/html": [
       "<div>\n",
       "<style scoped>\n",
       "    .dataframe tbody tr th:only-of-type {\n",
       "        vertical-align: middle;\n",
       "    }\n",
       "\n",
       "    .dataframe tbody tr th {\n",
       "        vertical-align: top;\n",
       "    }\n",
       "\n",
       "    .dataframe thead th {\n",
       "        text-align: right;\n",
       "    }\n",
       "</style>\n",
       "<table border=\"1\" class=\"dataframe\">\n",
       "  <thead>\n",
       "    <tr style=\"text-align: right;\">\n",
       "      <th></th>\n",
       "      <th>Req Failed %</th>\n",
       "      <th>Med Duration (ms)</th>\n",
       "      <th>p95 (ms)</th>\n",
       "      <th>p99 (ms)</th>\n",
       "    </tr>\n",
       "  </thead>\n",
       "  <tbody>\n",
       "    <tr>\n",
       "      <th>Express</th>\n",
       "      <td>0</td>\n",
       "      <td>1.483</td>\n",
       "      <td>2.26165</td>\n",
       "      <td>2.684</td>\n",
       "    </tr>\n",
       "  </tbody>\n",
       "</table>\n",
       "</div>"
      ],
      "text/plain": [
       "         Req Failed %  Med Duration (ms)  p95 (ms)  p99 (ms)\n",
       "Express             0              1.483   2.26165     2.684"
      ]
     },
     "execution_count": 63,
     "metadata": {},
     "output_type": "execute_result"
    }
   ],
   "source": [
    "data = {}\n",
    "with open('./summary_outputs/summary_output_load_express.json', 'r') as file:\n",
    "    my_dict = json.load(file)\n",
    "    print(my_dict['metrics'])\n",
    "    data['Req Failed %'] = {'Express': my_dict['metrics']['http_req_failed']['values']['rate']}\n",
    "    data['Med Duration (ms)'] = {'Express': my_dict['metrics']['http_req_duration']['values']['med']}\n",
    "    data['p95 (ms)'] = {'Express': my_dict['metrics']['http_req_duration']['values']['p(95)']}\n",
    "    data['p99 (ms)'] = {'Express': my_dict['metrics']['http_req_duration']['values']['p(99)']}\n",
    "pd.DataFrame(data)\n",
    "    "
   ]
  },
  {
   "cell_type": "code",
   "execution_count": null,
   "id": "83b7eab2-963e-47ce-8136-4ef3645dcf4b",
   "metadata": {},
   "outputs": [],
   "source": []
  }
 ],
 "metadata": {
  "kernelspec": {
   "display_name": "Python 3 (ipykernel)",
   "language": "python",
   "name": "python3"
  },
  "language_info": {
   "codemirror_mode": {
    "name": "ipython",
    "version": 3
   },
   "file_extension": ".py",
   "mimetype": "text/x-python",
   "name": "python",
   "nbconvert_exporter": "python",
   "pygments_lexer": "ipython3",
   "version": "3.9.13"
  }
 },
 "nbformat": 4,
 "nbformat_minor": 5
}
