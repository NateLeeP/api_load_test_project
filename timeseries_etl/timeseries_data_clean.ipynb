{
 "cells": [
  {
   "cell_type": "code",
   "execution_count": 5,
   "id": "6a62c405-565a-4b74-86cc-4c482646b442",
   "metadata": {},
   "outputs": [],
   "source": [
    "import pandas as pd"
   ]
  },
  {
   "cell_type": "code",
   "execution_count": 6,
   "id": "6c432a74-3a03-4b10-87c2-0c3fff26980c",
   "metadata": {},
   "outputs": [],
   "source": [
    "timeseries_df = pd.read_csv('/home/npruitt/repos/csv_files/express_app_load_test_timeseries_data.csv')"
   ]
  },
  {
   "cell_type": "code",
   "execution_count": 7,
   "id": "7bc4b02e-0d31-4ac6-b6c1-0287790478e9",
   "metadata": {},
   "outputs": [
    {
     "data": {
      "text/html": [
       "<div>\n",
       "<style scoped>\n",
       "    .dataframe tbody tr th:only-of-type {\n",
       "        vertical-align: middle;\n",
       "    }\n",
       "\n",
       "    .dataframe tbody tr th {\n",
       "        vertical-align: top;\n",
       "    }\n",
       "\n",
       "    .dataframe thead th {\n",
       "        text-align: right;\n",
       "    }\n",
       "</style>\n",
       "<table border=\"1\" class=\"dataframe\">\n",
       "  <thead>\n",
       "    <tr style=\"text-align: right;\">\n",
       "      <th></th>\n",
       "      <th>metric_name</th>\n",
       "      <th>timestamp</th>\n",
       "      <th>metric_value</th>\n",
       "      <th>check</th>\n",
       "      <th>error</th>\n",
       "      <th>error_code</th>\n",
       "      <th>expected_response</th>\n",
       "      <th>group</th>\n",
       "      <th>method</th>\n",
       "      <th>name</th>\n",
       "      <th>proto</th>\n",
       "      <th>scenario</th>\n",
       "      <th>service</th>\n",
       "      <th>status</th>\n",
       "      <th>subproto</th>\n",
       "      <th>tls_version</th>\n",
       "      <th>url</th>\n",
       "      <th>extra_tags</th>\n",
       "      <th>metadata</th>\n",
       "    </tr>\n",
       "  </thead>\n",
       "  <tbody>\n",
       "    <tr>\n",
       "      <th>0</th>\n",
       "      <td>http_reqs</td>\n",
       "      <td>1690667868</td>\n",
       "      <td>1.000000</td>\n",
       "      <td>NaN</td>\n",
       "      <td>NaN</td>\n",
       "      <td>NaN</td>\n",
       "      <td>True</td>\n",
       "      <td>NaN</td>\n",
       "      <td>GET</td>\n",
       "      <td>http://127.0.0.1:3000/person/1</td>\n",
       "      <td>HTTP/1.1</td>\n",
       "      <td>default</td>\n",
       "      <td>NaN</td>\n",
       "      <td>200.0</td>\n",
       "      <td>NaN</td>\n",
       "      <td>NaN</td>\n",
       "      <td>http://127.0.0.1:3000/person/1</td>\n",
       "      <td>NaN</td>\n",
       "      <td>NaN</td>\n",
       "    </tr>\n",
       "    <tr>\n",
       "      <th>1</th>\n",
       "      <td>http_req_duration</td>\n",
       "      <td>1690667868</td>\n",
       "      <td>30.533006</td>\n",
       "      <td>NaN</td>\n",
       "      <td>NaN</td>\n",
       "      <td>NaN</td>\n",
       "      <td>True</td>\n",
       "      <td>NaN</td>\n",
       "      <td>GET</td>\n",
       "      <td>http://127.0.0.1:3000/person/1</td>\n",
       "      <td>HTTP/1.1</td>\n",
       "      <td>default</td>\n",
       "      <td>NaN</td>\n",
       "      <td>200.0</td>\n",
       "      <td>NaN</td>\n",
       "      <td>NaN</td>\n",
       "      <td>http://127.0.0.1:3000/person/1</td>\n",
       "      <td>NaN</td>\n",
       "      <td>NaN</td>\n",
       "    </tr>\n",
       "    <tr>\n",
       "      <th>2</th>\n",
       "      <td>http_req_blocked</td>\n",
       "      <td>1690667868</td>\n",
       "      <td>0.510090</td>\n",
       "      <td>NaN</td>\n",
       "      <td>NaN</td>\n",
       "      <td>NaN</td>\n",
       "      <td>True</td>\n",
       "      <td>NaN</td>\n",
       "      <td>GET</td>\n",
       "      <td>http://127.0.0.1:3000/person/1</td>\n",
       "      <td>HTTP/1.1</td>\n",
       "      <td>default</td>\n",
       "      <td>NaN</td>\n",
       "      <td>200.0</td>\n",
       "      <td>NaN</td>\n",
       "      <td>NaN</td>\n",
       "      <td>http://127.0.0.1:3000/person/1</td>\n",
       "      <td>NaN</td>\n",
       "      <td>NaN</td>\n",
       "    </tr>\n",
       "    <tr>\n",
       "      <th>3</th>\n",
       "      <td>http_req_connecting</td>\n",
       "      <td>1690667868</td>\n",
       "      <td>0.326767</td>\n",
       "      <td>NaN</td>\n",
       "      <td>NaN</td>\n",
       "      <td>NaN</td>\n",
       "      <td>True</td>\n",
       "      <td>NaN</td>\n",
       "      <td>GET</td>\n",
       "      <td>http://127.0.0.1:3000/person/1</td>\n",
       "      <td>HTTP/1.1</td>\n",
       "      <td>default</td>\n",
       "      <td>NaN</td>\n",
       "      <td>200.0</td>\n",
       "      <td>NaN</td>\n",
       "      <td>NaN</td>\n",
       "      <td>http://127.0.0.1:3000/person/1</td>\n",
       "      <td>NaN</td>\n",
       "      <td>NaN</td>\n",
       "    </tr>\n",
       "    <tr>\n",
       "      <th>4</th>\n",
       "      <td>http_req_tls_handshaking</td>\n",
       "      <td>1690667868</td>\n",
       "      <td>0.000000</td>\n",
       "      <td>NaN</td>\n",
       "      <td>NaN</td>\n",
       "      <td>NaN</td>\n",
       "      <td>True</td>\n",
       "      <td>NaN</td>\n",
       "      <td>GET</td>\n",
       "      <td>http://127.0.0.1:3000/person/1</td>\n",
       "      <td>HTTP/1.1</td>\n",
       "      <td>default</td>\n",
       "      <td>NaN</td>\n",
       "      <td>200.0</td>\n",
       "      <td>NaN</td>\n",
       "      <td>NaN</td>\n",
       "      <td>http://127.0.0.1:3000/person/1</td>\n",
       "      <td>NaN</td>\n",
       "      <td>NaN</td>\n",
       "    </tr>\n",
       "  </tbody>\n",
       "</table>\n",
       "</div>"
      ],
      "text/plain": [
       "                metric_name   timestamp  metric_value  check  error  \\\n",
       "0                 http_reqs  1690667868      1.000000    NaN    NaN   \n",
       "1         http_req_duration  1690667868     30.533006    NaN    NaN   \n",
       "2          http_req_blocked  1690667868      0.510090    NaN    NaN   \n",
       "3       http_req_connecting  1690667868      0.326767    NaN    NaN   \n",
       "4  http_req_tls_handshaking  1690667868      0.000000    NaN    NaN   \n",
       "\n",
       "   error_code expected_response  group method                            name  \\\n",
       "0         NaN              True    NaN    GET  http://127.0.0.1:3000/person/1   \n",
       "1         NaN              True    NaN    GET  http://127.0.0.1:3000/person/1   \n",
       "2         NaN              True    NaN    GET  http://127.0.0.1:3000/person/1   \n",
       "3         NaN              True    NaN    GET  http://127.0.0.1:3000/person/1   \n",
       "4         NaN              True    NaN    GET  http://127.0.0.1:3000/person/1   \n",
       "\n",
       "      proto scenario  service  status  subproto  tls_version  \\\n",
       "0  HTTP/1.1  default      NaN   200.0       NaN          NaN   \n",
       "1  HTTP/1.1  default      NaN   200.0       NaN          NaN   \n",
       "2  HTTP/1.1  default      NaN   200.0       NaN          NaN   \n",
       "3  HTTP/1.1  default      NaN   200.0       NaN          NaN   \n",
       "4  HTTP/1.1  default      NaN   200.0       NaN          NaN   \n",
       "\n",
       "                              url  extra_tags  metadata  \n",
       "0  http://127.0.0.1:3000/person/1         NaN       NaN  \n",
       "1  http://127.0.0.1:3000/person/1         NaN       NaN  \n",
       "2  http://127.0.0.1:3000/person/1         NaN       NaN  \n",
       "3  http://127.0.0.1:3000/person/1         NaN       NaN  \n",
       "4  http://127.0.0.1:3000/person/1         NaN       NaN  "
      ]
     },
     "execution_count": 7,
     "metadata": {},
     "output_type": "execute_result"
    }
   ],
   "source": [
    "timeseries_df.head()"
   ]
  },
  {
   "cell_type": "code",
   "execution_count": 16,
   "id": "26a3964e-bf00-4e70-8ab3-97cb6ccf06cb",
   "metadata": {},
   "outputs": [],
   "source": [
    "timeseries_df = timeseries_df[['metric_name', 'timestamp', 'metric_value']]"
   ]
  },
  {
   "cell_type": "code",
   "execution_count": 23,
   "id": "e2fa1bea-042e-4328-8a98-526b191f321b",
   "metadata": {},
   "outputs": [],
   "source": [
    "timeseries_df = timeseries_df[timeseries_df['metric_name'] == 'http_req_duration'][['timestamp', 'metric_value']]"
   ]
  },
  {
   "cell_type": "code",
   "execution_count": 26,
   "id": "3ae7a776-47d7-45cb-abff-e056b43bc36e",
   "metadata": {
    "scrolled": true
   },
   "outputs": [],
   "source": [
    "http_duration_timeseries_df = timeseries_df.groupby(timeseries_df['timestamp']).median()"
   ]
  },
  {
   "cell_type": "code",
   "execution_count": 31,
   "id": "939ef6b4-31e9-44b3-bf35-b92fb08bd5da",
   "metadata": {},
   "outputs": [],
   "source": [
    "# create 'timestamp' column out of index\n",
    "http_duration_timeseries_df = http_duration_timeseries_df.reset_index()"
   ]
  },
  {
   "cell_type": "code",
   "execution_count": 33,
   "id": "35e0d51c-b097-471e-8efe-898e0086b451",
   "metadata": {},
   "outputs": [
    {
     "data": {
      "text/plain": [
       "<Axes: xlabel='timestamp'>"
      ]
     },
     "execution_count": 33,
     "metadata": {},
     "output_type": "execute_result"
    },
    {
     "data": {
      "image/png": "[encoded data removed]",
      "text/plain": [
       "<Figure size 640x480 with 1 Axes>"
      ]
     },
     "metadata": {},
     "output_type": "display_data"
    }
   ],
   "source": [
    "http_duration_timeseries_df.plot(x='timestamp', y='metric_value')"
   ]
  },
  {
   "cell_type": "code",
   "execution_count": null,
   "id": "a55c7201-a663-4f48-b808-0357b08b3729",
   "metadata": {},
   "outputs": [],
   "source": [
    "# Rudimentary timeseries plot. Can I use matplotlib to create a better one with the x-axis tick marks to be 'seconds'\n",
    "# into test?"
   ]
  }
 ],
 "metadata": {
  "kernelspec": {
   "display_name": "Python 3 (ipykernel)",
   "language": "python",
   "name": "python3"
  },
  "language_info": {
   "codemirror_mode": {
    "name": "ipython",
    "version": 3
   },
   "file_extension": ".py",
   "mimetype": "text/x-python",
   "name": "python",
   "nbconvert_exporter": "python",
   "pygments_lexer": "ipython3",
   "version": "3.10.6"
  }
 },
 "nbformat": 4,
 "nbformat_minor": 5
}
